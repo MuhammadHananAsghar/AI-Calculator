{
 "cells": [
  {
   "cell_type": "code",
   "execution_count": 9,
   "id": "e04eeada",
   "metadata": {
    "collapsed": true
   },
   "outputs": [
    {
     "name": "stdout",
     "output_type": "stream",
     "text": [
      "Collecting pyshine\n",
      "  Downloading pyshine-0.0.9-py3-none-any.whl (7.4 kB)\n",
      "Requirement already satisfied: numpy in /home/sultan/miniconda3/envs/sultan/lib/python3.9/site-packages (from pyshine) (1.21.2)\n",
      "Installing collected packages: pyshine\n",
      "Successfully installed pyshine-0.0.9\n"
     ]
    }
   ],
   "source": [
    "!pip install pyshine"
   ]
  },
  {
   "cell_type": "code",
   "execution_count": 2,
   "id": "be562207",
   "metadata": {},
   "outputs": [
    {
     "name": "stdout",
     "output_type": "stream",
     "text": [
      "Warning! No module named 'soundfile'\n"
     ]
    }
   ],
   "source": [
    "import cv2\n",
    "import math\n",
    "import numpy as np\n",
    "import pyshine as ps\n",
    "import mediapipe as mp"
   ]
  },
  {
   "cell_type": "code",
   "execution_count": 3,
   "id": "d0c71edc",
   "metadata": {},
   "outputs": [],
   "source": [
    "# Initialize the mediapipe hands class.\n",
    "mp_hands = mp.solutions.hands\n",
    "\n",
    "# Set up the Hands functions for images and videos.\n",
    "hands = mp_hands.Hands(max_num_hands=1, min_detection_confidence=0.5, min_tracking_confidence=0.5)\n",
    "\n",
    "# Initialize the mediapipe drawing class.\n",
    "mp_drawing = mp.solutions.drawing_utils"
   ]
  },
  {
   "cell_type": "code",
   "execution_count": 4,
   "id": "be0a1a2b",
   "metadata": {},
   "outputs": [
    {
     "name": "stderr",
     "output_type": "stream",
     "text": [
      "INFO: Created TensorFlow Lite XNNPACK delegate for CPU.\n"
     ]
    }
   ],
   "source": [
    "font = cv2.FONT_HERSHEY_SIMPLEX\n",
    "  \n",
    "# org\n",
    "org = (50, 50)\n",
    "  \n",
    "# fontScale\n",
    "fontScale = 0.6\n",
    "   \n",
    "# Blue color in BGR\n",
    "color = (255, 0, 0)\n",
    "  \n",
    "# Line thickness of 2 px\n",
    "thickness = 2"
   ]
  },
  {
   "cell_type": "code",
   "execution_count": 5,
   "id": "3c964f78",
   "metadata": {},
   "outputs": [],
   "source": [
    "INDEX_A = 8\n",
    "INDEX_B = 6\n",
    "MIDDLE_A = 12\n",
    "MIDDLE_B = 10\n",
    "RING_A = 16\n",
    "RING_B = 14\n",
    "PINKY_A = 20\n",
    "PINKY_B = 18\n",
    "THUMB_A = 4\n",
    "THUMB_B = 2\n",
    "\n",
    "def cubes_dist(text):\n",
    "    id = 6\n",
    "    encodings = \"0 1 2 3 4 5 6 7 8 9 * + - / = CLEAR\".split()\n",
    "    x, y, cubes = 25, 30, []\n",
    "    for index in range(len(encodings)):\n",
    "        if (index%id == 0) and (index != 0):\n",
    "            y += 90\n",
    "            x = 25\n",
    "        if text == encodings[index]:\n",
    "            cubes.append([x, y, encodings[index], [228, 31, 40]])\n",
    "        else:\n",
    "            cubes.append([x, y, encodings[index], [9, 210, 51]])\n",
    "\n",
    "        x += 100\n",
    "    return cubes\n",
    "\n",
    "def min_dist(points):\n",
    "    id = 6\n",
    "    encodings = \"0 1 2 3 4 5 6 7 8 9 * + - / = CLEAR\".split()\n",
    "    x, y, cubes, dists = 25, 30, [], []\n",
    "    for index in range(len(encodings)):\n",
    "        if (index%id == 0) and (index != 0):\n",
    "            y += 90\n",
    "            x = 25\n",
    "        cubes.append([x, y])\n",
    "        x += 100\n",
    "    \n",
    "    for cube in cubes:\n",
    "        euc = math.dist(points, cube)\n",
    "        dists.append(euc)\n",
    "    return encodings[np.argmin(dists)]\n",
    "\n",
    "\n",
    "def checkFingers(points):\n",
    "    fingers = []\n",
    "    condition = None\n",
    "    if points[INDEX_A][1] < points[INDEX_B][1]:\n",
    "        fingers.append(1)\n",
    "    if points[MIDDLE_A][1] < points[MIDDLE_B][1]:\n",
    "        fingers.append(1)\n",
    "    if points[RING_A][1] < points[RING_B][1]:\n",
    "        fingers.append(1)\n",
    "    if points[PINKY_A][1] < points[PINKY_B][1]:\n",
    "        fingers.append(1)\n",
    "    if points[THUMB_A][0] < points[THUMB_B][0]:\n",
    "        fingers.append(1)\n",
    "    if sum(fingers) == 0:\n",
    "        condition = \"ANS\"\n",
    "    if sum(fingers) == 5:\n",
    "        condition = \"CLEAR\"\n",
    "    return condition\n",
    "\n",
    "def solution(equa):\n",
    "    for char in equa:\n",
    "        if char in [\"+\", \"-\", \"/\", \"*\"]:\n",
    "            sign = char\n",
    "    nums = equa.split(sign)\n",
    "    if sign == \"+\":\n",
    "        value = int(nums[0]) + int(nums[1])\n",
    "    if sign == \"-\":\n",
    "        value = int(nums[0]) - int(nums[1])\n",
    "    if sign == \"*\":\n",
    "        value = int(nums[0]) * int(nums[1])\n",
    "    if sign == \"/\":\n",
    "        value = int(nums[0]) / int(nums[1])\n",
    "    return value"
   ]
  },
  {
   "cell_type": "code",
   "execution_count": 12,
   "id": "f3b55c9f",
   "metadata": {},
   "outputs": [],
   "source": [
    "stream = cv2.VideoCapture(0)\n",
    "window_name = \"AI Calculator\"\n",
    "cv2.namedWindow(window_name, cv2.WINDOW_NORMAL);\n",
    "cv2.setWindowProperty(window_name, cv2.WND_PROP_FULLSCREEN, cv2.WINDOW_FULLSCREEN);\n",
    "cv2.setWindowProperty(window_name, cv2.WND_PROP_TOPMOST, 1)\n",
    "\n",
    "frameCX = 0\n",
    "overlap = False\n",
    "size = 20\n",
    "size = 20\n",
    "text_value = None\n",
    "sent = \"\"\n",
    "answer = \"\"\n",
    "\n",
    "while True:\n",
    "    ret, frame = stream.read()\n",
    "    image = cv2.flip(frame, 1)\n",
    "    img_h, img_w = image.shape[:2]\n",
    "    if not ret:\n",
    "        break\n",
    "    \n",
    "        # Convert the image from BGR into RGB format.\n",
    "    imgRGB = cv2.cvtColor(image, cv2.COLOR_BGR2RGB)\n",
    "    \n",
    "    # Perform the Hands Landmarks Detection.\n",
    "    results = hands.process(imgRGB)\n",
    "    \n",
    "    # Check if landmarks are found and are specified to be drawn.\n",
    "    if results.multi_hand_landmarks:\n",
    "        \n",
    "        # Iterate over the found hands.\n",
    "        for hand_landmarks in results.multi_hand_landmarks:\n",
    "            image = cv2.blur(image, (20, 20))\n",
    "            # Draw the hand landmarks on the copy of the input image.\n",
    "            mp_drawing.draw_landmarks(image, landmark_list = hand_landmarks,\n",
    "                                      connections = mp_hands.HAND_CONNECTIONS,\n",
    "                                      landmark_drawing_spec=mp_drawing.DrawingSpec(color=(255,255,255), thickness=2, circle_radius=2),\n",
    "                                      connection_drawing_spec=mp_drawing.DrawingSpec(color=(0,255,0), thickness=2, circle_radius=2))\n",
    "            points = np.array([np.multiply([p.x, p.y], [img_w, img_h]).astype(\"int\") for p in hand_landmarks.landmark])\n",
    "        \n",
    "        image = cv2.circle(image, points[8], radius=10, color=(0, 0, 255), thickness=-1)\n",
    "    \n",
    "        if (points[PINKY_A][1] < points[PINKY_B][1]) and (frameCX == 0):\n",
    "            text_value = min_dist(points[8])\n",
    "            if text_value == \"CLEAR\":\n",
    "                sent = sent.rstrip(sent[-1])\n",
    "                sent = sent\n",
    "            else:\n",
    "                sent += text_value\n",
    "\n",
    "            frameCX = 1\n",
    "\n",
    "        if frameCX != 0:\n",
    "            frameCX += 1\n",
    "            if frameCX > 7:\n",
    "                frameCX = 0\n",
    "        \n",
    "        try:\n",
    "            cond = checkFingers(points)  \n",
    "            if cond == \"ANS\":\n",
    "                eq = sent\n",
    "                equa = eq.rstrip(\"=\")\n",
    "                answer = str(solution(equa))\n",
    "            if cond == \"CLEAR\":\n",
    "                sent = \"\"\n",
    "                answer = \"\"\n",
    "        except:\n",
    "            pass\n",
    "    \n",
    "    distances = cubes_dist(text_value)\n",
    "    for index, distance in enumerate(distances):\n",
    "        bgColor = tuple(distance[3])\n",
    "        image = ps.putBText(image, distance[2], text_offset_x=distance[0],text_offset_y=distance[1],vspace=size,hspace=size, font_scale=2.0,background_RGB=bgColor,text_RGB=(255,255,255))\n",
    "    \n",
    "    image = ps.putBText(image, sent+answer, text_offset_x=310,text_offset_y=400,vspace=50,hspace=200, font_scale=1.0,background_RGB=(9, 210, 51),text_RGB=(255,255,255))\n",
    "    \n",
    "\n",
    "    \n",
    "    cv2.imshow(window_name, image)\n",
    "    if cv2.waitKey(1) & 0xFF == ord('q'):\n",
    "        break\n",
    "    \n",
    "stream.release()\n",
    "cv2.destroyAllWindows()"
   ]
  },
  {
   "cell_type": "code",
   "execution_count": 16,
   "id": "003da70f",
   "metadata": {},
   "outputs": [],
   "source": [
    "stream.release()\n",
    "cv2.destroyAllWindows()"
   ]
  },
  {
   "cell_type": "code",
   "execution_count": null,
   "id": "4d04d978",
   "metadata": {},
   "outputs": [],
   "source": []
  }
 ],
 "metadata": {
  "kernelspec": {
   "display_name": "Python 3 (ipykernel)",
   "language": "python",
   "name": "python3"
  },
  "language_info": {
   "codemirror_mode": {
    "name": "ipython",
    "version": 3
   },
   "file_extension": ".py",
   "mimetype": "text/x-python",
   "name": "python",
   "nbconvert_exporter": "python",
   "pygments_lexer": "ipython3",
   "version": "3.9.7"
  }
 },
 "nbformat": 4,
 "nbformat_minor": 5
}
